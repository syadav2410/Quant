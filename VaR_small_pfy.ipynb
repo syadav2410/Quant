{
 "cells": [
  {
   "cell_type": "code",
   "execution_count": 3,
   "id": "647ff5ba",
   "metadata": {},
   "outputs": [],
   "source": [
    "import yfinance as yf\n",
    "import numpy as np\n",
    "import pandas as pd\n",
    "from scipy.stats import norm"
   ]
  },
  {
   "cell_type": "code",
   "execution_count": 7,
   "id": "17989eee",
   "metadata": {},
   "outputs": [],
   "source": [
    "tickers = ['RELIANCE.NS', 'HDFCBANK.NS', 'BAJFINANCE.NS']\n",
    "start_date = '2022-04-01'\n",
    "end_date = '2024-04-01'"
   ]
  },
  {
   "cell_type": "code",
   "execution_count": 8,
   "id": "e2947ca7",
   "metadata": {},
   "outputs": [
    {
     "name": "stdout",
     "output_type": "stream",
     "text": [
      "[*********************100%***********************]  3 of 3 completed\n"
     ]
    }
   ],
   "source": [
    "data = yf.download(tickers, start=start_date, end=end_date)['Adj Close']"
   ]
  },
  {
   "cell_type": "code",
   "execution_count": 9,
   "id": "2093336b",
   "metadata": {},
   "outputs": [
    {
     "data": {
      "text/html": [
       "<div>\n",
       "<style scoped>\n",
       "    .dataframe tbody tr th:only-of-type {\n",
       "        vertical-align: middle;\n",
       "    }\n",
       "\n",
       "    .dataframe tbody tr th {\n",
       "        vertical-align: top;\n",
       "    }\n",
       "\n",
       "    .dataframe thead th {\n",
       "        text-align: right;\n",
       "    }\n",
       "</style>\n",
       "<table border=\"1\" class=\"dataframe\">\n",
       "  <thead>\n",
       "    <tr style=\"text-align: right;\">\n",
       "      <th></th>\n",
       "      <th>BAJFINANCE.NS</th>\n",
       "      <th>HDFCBANK.NS</th>\n",
       "      <th>RELIANCE.NS</th>\n",
       "    </tr>\n",
       "    <tr>\n",
       "      <th>Date</th>\n",
       "      <th></th>\n",
       "      <th></th>\n",
       "      <th></th>\n",
       "    </tr>\n",
       "  </thead>\n",
       "  <tbody>\n",
       "    <tr>\n",
       "      <th>2022-04-01</th>\n",
       "      <td>7349.992676</td>\n",
       "      <td>1451.984863</td>\n",
       "      <td>2434.775879</td>\n",
       "    </tr>\n",
       "    <tr>\n",
       "      <th>2022-04-04</th>\n",
       "      <td>7431.895020</td>\n",
       "      <td>1597.376221</td>\n",
       "      <td>2441.972412</td>\n",
       "    </tr>\n",
       "    <tr>\n",
       "      <th>2022-04-05</th>\n",
       "      <td>7330.496582</td>\n",
       "      <td>1550.567505</td>\n",
       "      <td>2407.456299</td>\n",
       "    </tr>\n",
       "    <tr>\n",
       "      <th>2022-04-06</th>\n",
       "      <td>7289.322754</td>\n",
       "      <td>1495.226318</td>\n",
       "      <td>2401.039062</td>\n",
       "    </tr>\n",
       "    <tr>\n",
       "      <th>2022-04-07</th>\n",
       "      <td>7233.017578</td>\n",
       "      <td>1462.349365</td>\n",
       "      <td>2358.684814</td>\n",
       "    </tr>\n",
       "  </tbody>\n",
       "</table>\n",
       "</div>"
      ],
      "text/plain": [
       "            BAJFINANCE.NS  HDFCBANK.NS  RELIANCE.NS\n",
       "Date                                               \n",
       "2022-04-01    7349.992676  1451.984863  2434.775879\n",
       "2022-04-04    7431.895020  1597.376221  2441.972412\n",
       "2022-04-05    7330.496582  1550.567505  2407.456299\n",
       "2022-04-06    7289.322754  1495.226318  2401.039062\n",
       "2022-04-07    7233.017578  1462.349365  2358.684814"
      ]
     },
     "execution_count": 9,
     "metadata": {},
     "output_type": "execute_result"
    }
   ],
   "source": [
    "data.head()"
   ]
  },
  {
   "cell_type": "markdown",
   "id": "2f20cd8d",
   "metadata": {},
   "source": [
    "__Variance Covariance Method__"
   ]
  },
  {
   "cell_type": "code",
   "execution_count": 14,
   "id": "74646479",
   "metadata": {},
   "outputs": [
    {
     "data": {
      "text/html": [
       "<div>\n",
       "<style scoped>\n",
       "    .dataframe tbody tr th:only-of-type {\n",
       "        vertical-align: middle;\n",
       "    }\n",
       "\n",
       "    .dataframe tbody tr th {\n",
       "        vertical-align: top;\n",
       "    }\n",
       "\n",
       "    .dataframe thead th {\n",
       "        text-align: right;\n",
       "    }\n",
       "</style>\n",
       "<table border=\"1\" class=\"dataframe\">\n",
       "  <thead>\n",
       "    <tr style=\"text-align: right;\">\n",
       "      <th></th>\n",
       "      <th>BAJFINANCE.NS</th>\n",
       "      <th>HDFCBANK.NS</th>\n",
       "      <th>RELIANCE.NS</th>\n",
       "    </tr>\n",
       "    <tr>\n",
       "      <th>Date</th>\n",
       "      <th></th>\n",
       "      <th></th>\n",
       "      <th></th>\n",
       "    </tr>\n",
       "  </thead>\n",
       "  <tbody>\n",
       "    <tr>\n",
       "      <th>2022-04-04</th>\n",
       "      <td>0.011143</td>\n",
       "      <td>0.100133</td>\n",
       "      <td>0.002956</td>\n",
       "    </tr>\n",
       "    <tr>\n",
       "      <th>2022-04-05</th>\n",
       "      <td>-0.013644</td>\n",
       "      <td>-0.029304</td>\n",
       "      <td>-0.014135</td>\n",
       "    </tr>\n",
       "    <tr>\n",
       "      <th>2022-04-06</th>\n",
       "      <td>-0.005617</td>\n",
       "      <td>-0.035691</td>\n",
       "      <td>-0.002666</td>\n",
       "    </tr>\n",
       "    <tr>\n",
       "      <th>2022-04-07</th>\n",
       "      <td>-0.007724</td>\n",
       "      <td>-0.021988</td>\n",
       "      <td>-0.017640</td>\n",
       "    </tr>\n",
       "    <tr>\n",
       "      <th>2022-04-08</th>\n",
       "      <td>0.010480</td>\n",
       "      <td>-0.001385</td>\n",
       "      <td>0.016635</td>\n",
       "    </tr>\n",
       "    <tr>\n",
       "      <th>...</th>\n",
       "      <td>...</td>\n",
       "      <td>...</td>\n",
       "      <td>...</td>\n",
       "    </tr>\n",
       "    <tr>\n",
       "      <th>2024-03-21</th>\n",
       "      <td>0.009963</td>\n",
       "      <td>0.010272</td>\n",
       "      <td>0.005004</td>\n",
       "    </tr>\n",
       "    <tr>\n",
       "      <th>2024-03-22</th>\n",
       "      <td>0.006723</td>\n",
       "      <td>-0.002006</td>\n",
       "      <td>0.002791</td>\n",
       "    </tr>\n",
       "    <tr>\n",
       "      <th>2024-03-26</th>\n",
       "      <td>0.022068</td>\n",
       "      <td>-0.012094</td>\n",
       "      <td>-0.009244</td>\n",
       "    </tr>\n",
       "    <tr>\n",
       "      <th>2024-03-27</th>\n",
       "      <td>0.016302</td>\n",
       "      <td>0.010734</td>\n",
       "      <td>0.035569</td>\n",
       "    </tr>\n",
       "    <tr>\n",
       "      <th>2024-03-28</th>\n",
       "      <td>0.031683</td>\n",
       "      <td>0.004998</td>\n",
       "      <td>-0.004689</td>\n",
       "    </tr>\n",
       "  </tbody>\n",
       "</table>\n",
       "<p>491 rows × 3 columns</p>\n",
       "</div>"
      ],
      "text/plain": [
       "            BAJFINANCE.NS  HDFCBANK.NS  RELIANCE.NS\n",
       "Date                                               \n",
       "2022-04-04       0.011143     0.100133     0.002956\n",
       "2022-04-05      -0.013644    -0.029304    -0.014135\n",
       "2022-04-06      -0.005617    -0.035691    -0.002666\n",
       "2022-04-07      -0.007724    -0.021988    -0.017640\n",
       "2022-04-08       0.010480    -0.001385     0.016635\n",
       "...                   ...          ...          ...\n",
       "2024-03-21       0.009963     0.010272     0.005004\n",
       "2024-03-22       0.006723    -0.002006     0.002791\n",
       "2024-03-26       0.022068    -0.012094    -0.009244\n",
       "2024-03-27       0.016302     0.010734     0.035569\n",
       "2024-03-28       0.031683     0.004998    -0.004689\n",
       "\n",
       "[491 rows x 3 columns]"
      ]
     },
     "execution_count": 14,
     "metadata": {},
     "output_type": "execute_result"
    }
   ],
   "source": [
    "returns_pf = data.pct_change().dropna()\n",
    "returns_pf"
   ]
  },
  {
   "cell_type": "code",
   "execution_count": 25,
   "id": "43cf9a61",
   "metadata": {},
   "outputs": [],
   "source": [
    "investment = 175000\n",
    "weights = np.array([0.3, 0.4, 0.3])\n",
    "\n",
    "\n",
    "pf_mean = np.dot(weights, returns.mean())\n",
    "pf_cov = np.dot(weights.T, np.dot(returns.cov(), weights))\n",
    "# pf_mean\n",
    "# pf_cov\n",
    "\n",
    "pf_std = np.sqrt(pf_cov)\n",
    "#pf_std"
   ]
  },
  {
   "cell_type": "code",
   "execution_count": 28,
   "id": "16af0ac7",
   "metadata": {},
   "outputs": [
    {
     "name": "stdout",
     "output_type": "stream",
     "text": [
      "{0.99: 4386.271385532105, 0.95: 3101.33083611178, 0.9: 2416.3337838498474}\n"
     ]
    }
   ],
   "source": [
    "confidence_intervals = [0.99, 0.95, 0.90]\n",
    "\n",
    "VaR = {}\n",
    "for confidence_interval in confidence_intervals:\n",
    "    z_value = norm.ppf(confidence_interval)\n",
    "    VaR[confidence_interval] = z_value * pf_std * investment\n",
    "    \n",
    "#print(VaR)"
   ]
  },
  {
   "cell_type": "code",
   "execution_count": 29,
   "id": "bcdb77f8",
   "metadata": {},
   "outputs": [
    {
     "name": "stdout",
     "output_type": "stream",
     "text": [
      "VaR at 99.0% confidence interval: ₹4386.27\n",
      "VaR at 95.0% confidence interval: ₹3101.33\n",
      "VaR at 90.0% confidence interval: ₹2416.33\n"
     ]
    }
   ],
   "source": [
    "for confidence_level, var in VaR.items():\n",
    "    print(\"VaR at {}% confidence interval: ₹{:.2f}\".format(confidence_level * 100, var))"
   ]
  },
  {
   "cell_type": "markdown",
   "id": "0d3a187a",
   "metadata": {},
   "source": [
    "__Historical Method__"
   ]
  },
  {
   "cell_type": "code",
   "execution_count": 34,
   "id": "acb3bf3f",
   "metadata": {},
   "outputs": [],
   "source": [
    "pf_returns = returns.dot(weights)\n",
    "pf_returns = np.sort(pf_returns)\n",
    "#pf_returns"
   ]
  },
  {
   "cell_type": "code",
   "execution_count": 47,
   "id": "4ef1158d",
   "metadata": {},
   "outputs": [],
   "source": [
    "def historical_var(returns, confidence_intervals):\n",
    "    index = int((1 - confidence_intervals) * len(pf_returns))\n",
    "    return pf_returns[index]\n",
    "\n",
    "historical_VaR = {}\n",
    "\n",
    "for confidence_interval in confidence_intervals:\n",
    "    var = historical_var(pf_returns, confidence_interval)\n",
    "    historical_VaR[confidence_interval] = -var * investment  \n",
    "    \n",
    "#print(historical_VaR)"
   ]
  },
  {
   "cell_type": "code",
   "execution_count": 49,
   "id": "951a05ca",
   "metadata": {},
   "outputs": [
    {
     "name": "stdout",
     "output_type": "stream",
     "text": [
      "Historical_VaR at 99% confidence interval: 4386.27 rupees\n",
      "Historical_VaR at 95% confidence interval: 3101.33 rupees\n",
      "Historical_VaR at 90% confidence interval: 2416.33 rupees\n"
     ]
    }
   ],
   "source": [
    "for confidence_interval in confidence_intervals:\n",
    "    print(f\"Historical_VaR at {int(confidence_interval*100)}% confidence interval: {VaR[confidence_interval]:.2f} rupees\")"
   ]
  },
  {
   "cell_type": "markdown",
   "id": "cbff90e4",
   "metadata": {},
   "source": [
    "__Monte Carlo Simulation Method__"
   ]
  },
  {
   "cell_type": "code",
   "execution_count": 53,
   "id": "e9205796",
   "metadata": {},
   "outputs": [],
   "source": [
    "num_simulations = 10000\n",
    "num_days = 1\n",
    "mean_returns = returns.mean()\n",
    "cov_matrix = returns.cov()"
   ]
  },
  {
   "cell_type": "code",
   "execution_count": 54,
   "id": "54b26075",
   "metadata": {},
   "outputs": [],
   "source": [
    "simulated_pf_returns = []\n",
    "\n",
    "for _ in range(num_simulations):\n",
    "    random_returns = np.random.multivariate_normal(mean_returns, cov_matrix, num_days)\n",
    "    simulated_return = np.dot(random_returns, weights)\n",
    "    simulated_pf_returns.append(simulated_return)\n",
    "\n",
    "simulated_pf_returns = np.array(simulated_pf_returns)"
   ]
  },
  {
   "cell_type": "code",
   "execution_count": 59,
   "id": "36935126",
   "metadata": {},
   "outputs": [],
   "source": [
    "def monte_carlo_var(simulated_returns, confidence_intervals):\n",
    "    index = int((1 - confidence_interval) * len(pf_returns))\n",
    "    return pf_returns[index]\n",
    "\n",
    "monte_carlo_VaR = {}\n",
    "\n",
    "for confidence_interval in confidence_intervals:\n",
    "    var = monte_carlo_var(simulated_pf_returns, confidence_interval)\n",
    "    monte_carlo_VaR[confidence_interval] = -var * investment\n",
    "    \n",
    "#print(monte_carlo_VaR)"
   ]
  },
  {
   "cell_type": "code",
   "execution_count": 60,
   "id": "417eff0c",
   "metadata": {},
   "outputs": [
    {
     "name": "stdout",
     "output_type": "stream",
     "text": [
      "monte_carlo_VaR at 99% confidence interval: 4993.06 rupees\n",
      "monte_carlo_VaR at 95% confidence interval: 3103.66 rupees\n",
      "monte_carlo_VaR at 90% confidence interval: 2263.07 rupees\n"
     ]
    }
   ],
   "source": [
    "for confidence_interval in confidence_intervals:\n",
    "    print(f\"monte_carlo_VaR at {int(confidence_interval*100)}% confidence interval: {VaR[confidence_interval]:.2f} rupees\")"
   ]
  },
  {
   "cell_type": "code",
   "execution_count": null,
   "id": "dbc92f3c",
   "metadata": {},
   "outputs": [],
   "source": []
  }
 ],
 "metadata": {
  "kernelspec": {
   "display_name": "Python 3 (ipykernel)",
   "language": "python",
   "name": "python3"
  },
  "language_info": {
   "codemirror_mode": {
    "name": "ipython",
    "version": 3
   },
   "file_extension": ".py",
   "mimetype": "text/x-python",
   "name": "python",
   "nbconvert_exporter": "python",
   "pygments_lexer": "ipython3",
   "version": "3.9.19"
  }
 },
 "nbformat": 4,
 "nbformat_minor": 5
}
